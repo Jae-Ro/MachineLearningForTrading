{
 "cells": [
  {
   "cell_type": "markdown",
   "metadata": {},
   "source": [
    "Assess a betting strategy.  \t\t   \t  \t\t\t  \t \t\t  \t\t  \t\t    \t \t\t \t\t   \t\t \t\t  \n",
    "  \t\t   \t  \t\t\t  \t \t\t  \t\t  \t\t    \t \t\t \t\t   \t\t \t\t  \n",
    "Copyright 2018, Georgia Institute of Technology (Georgia Tech)  \t\t   \t  \t\t\t  \t \t\t  \t\t  \t\t    \t \t\t \t\t   \t\t \t\t  \n",
    "Atlanta, Georgia 30332  \t\t   \t  \t\t\t  \t \t\t  \t\t  \t\t    \t \t\t \t\t   \t\t \t\t  \n",
    "All Rights Reserved  \t\t   \t  \t\t\t  \t \t\t  \t\t  \t\t    \t \t\t \t\t   \t\t \t\t  \n",
    "  \t\t   \t  \t\t\t  \t \t\t  \t\t  \t\t    \t \t\t \t\t   \t\t \t\t  \n",
    "Template code for CS 4646/7646  \t\t   \t  \t\t\t  \t \t\t  \t\t  \t\t    \t \t\t \t\t   \t\t \t\t  \n",
    "  \t\t   \t  \t\t\t  \t \t\t  \t\t  \t\t    \t \t\t \t\t   \t\t \t\t  \n",
    "Georgia Tech asserts copyright ownership of this template and all derivative  \t\t   \t  \t\t\t  \t \t\t  \t\t  \t\t    \t \t\t \t\t   \t\t \t\t  \n",
    "works, including solutions to the projects assigned in this course. Students  \t\t   \t  \t\t\t  \t \t\t  \t\t  \t\t    \t \t\t \t\t   \t\t \t\t  \n",
    "and other users of this template code are advised not to share it with others  \t\t   \t  \t\t\t  \t \t\t  \t\t  \t\t    \t \t\t \t\t   \t\t \t\t  \n",
    "or to make it available on publicly viewable websites including repositories  \t\t   \t  \t\t\t  \t \t\t  \t\t  \t\t    \t \t\t \t\t   \t\t \t\t  \n",
    "such as github and gitlab.  This copyright statement should not be removed  \t\t   \t  \t\t\t  \t \t\t  \t\t  \t\t    \t \t\t \t\t   \t\t \t\t  \n",
    "or edited.  \t\t   \t  \t\t\t  \t \t\t  \t\t  \t\t    \t \t\t \t\t   \t\t \t\t  \n",
    "  \t\t   \t  \t\t\t  \t \t\t  \t\t  \t\t    \t \t\t \t\t   \t\t \t\t  \n",
    "We do grant permission to share solutions privately with non-students such  \t\t   \t  \t\t\t  \t \t\t  \t\t  \t\t    \t \t\t \t\t   \t\t \t\t  \n",
    "as potential employers. However, sharing with other current or future  \t\t   \t  \t\t\t  \t \t\t  \t\t  \t\t    \t \t\t \t\t   \t\t \t\t  \n",
    "students of CS 7646 is prohibited and subject to being investigated as a  \t\t   \t  \t\t\t  \t \t\t  \t\t  \t\t    \t \t\t \t\t   \t\t \t\t  \n",
    "GT honor code violation.  \t\t   \t  \t\t\t  \t \t\t  \t\t  \t\t    \t \t\t \t\t   \t\t \t\t  \n",
    "  \t\t   \t  \t\t\t  \t \t\t  \t\t  \t\t    \t \t\t \t\t   \t\t \t\t  \n",
    "-----do not edit anything above this line---  \t\t   \t  \t\t\t  \t \t\t  \t\t  \t\t    \t \t\t \t\t   \t\t \t\t  \n",
    "  \t\t   \t  \t\t\t  \t \t\t  \t\t  \t\t    \t \t\t \t\t   \t\t \t\t  \n",
    "Student Name: Tucker Balch (replace with your name)  \t\t   \t  \t\t\t  \t \t\t  \t\t  \t\t    \t \t\t \t\t   \t\t \t\t  \n",
    "GT User ID: tb34 (replace with your User ID)  \t\t   \t  \t\t\t  \t \t\t  \t\t  \t\t    \t \t\t \t\t   \t\t \t\t  \n",
    "GT ID: 900897987 (replace with your GT ID)  \t\t   \t  \t\t\t  \t \t\t  \t\t  \t\t    \t \t\t \t\t   \t\t \t\t  "
   ]
  },
  {
   "cell_type": "code",
   "execution_count": null,
   "metadata": {},
   "outputs": [],
   "source": [
    "import numpy as np"
   ]
  },
  {
   "cell_type": "code",
   "execution_count": null,
   "metadata": {},
   "outputs": [],
   "source": [
    "def author():\n",
    "    return 'jro32' # replace tb34 with your Georgia Tech username.\n",
    "\n",
    "def gtid():\n",
    "    return 903450684\n",
    "\n",
    "def get_spin_result(win_prob):\n",
    "    result = False \n",
    "    if np.random.random() <= win_prob:\n",
    "        result = True\n",
    "    return result\n",
    "\n",
    "def test_code():\n",
    "    win_prob = 0.60 # set appropriately to the probability of a win  \n",
    "    np.random.seed(gtid()) # do this only once \n",
    "    print(get_spin_result(win_prob)) # test the roulette spin\n",
    "\n",
    "    # add your code here to implement the experiments\n",
    "    \n",
    "if __name__ == \"__main__\":\n",
    "    test_code() \n"
   ]
  }
 ],
 "metadata": {
  "kernelspec": {
   "display_name": "Python 3",
   "language": "python",
   "name": "python3"
  },
  "language_info": {
   "codemirror_mode": {
    "name": "ipython",
    "version": 3
   },
   "file_extension": ".py",
   "mimetype": "text/x-python",
   "name": "python",
   "nbconvert_exporter": "python",
   "pygments_lexer": "ipython3",
   "version": "3.7.0"
  }
 },
 "nbformat": 4,
 "nbformat_minor": 2
}
